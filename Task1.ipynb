{
 "cells": [
  {
   "cell_type": "code",
   "execution_count": 25,
   "id": "8aabba44-d5f6-48d3-bf55-b6b1869cd69b",
   "metadata": {},
   "outputs": [],
   "source": [
    "import pandas as pd"
   ]
  },
  {
   "cell_type": "code",
   "execution_count": 26,
   "id": "71d5c463-bb3a-4836-bccc-87a2e94cdc27",
   "metadata": {},
   "outputs": [],
   "source": [
    "df = pd.read_csv(\"financial_data.csv\")"
   ]
  },
  {
   "cell_type": "code",
   "execution_count": 27,
   "id": "edce14c1-116e-469d-92f3-2d700fbd6892",
   "metadata": {},
   "outputs": [
    {
     "name": "stdout",
     "output_type": "stream",
     "text": [
      "Detailed Financial Data with Year-over-Year Growth Metrics:\n",
      "     Company  Fiscal Year  Total Revenue  Net Income  Total Assets  \\\n",
      "2      Apple         2020         274.52       57.41        323.88   \n",
      "1      Apple         2021         365.82       86.90        323.89   \n",
      "0      Apple         2022         394.33       94.68        352.75   \n",
      "8  Microsoft         2020      143015.00    44281.00     301311.00   \n",
      "7  Microsoft         2021      168088.00    61271.00     333779.00   \n",
      "6  Microsoft         2022      198270.00    72231.00     364840.00   \n",
      "5      Tesla         2019       24578.00     -862.00      37500.00   \n",
      "4      Tesla         2020       31536.00      690.00      46700.00   \n",
      "3      Tesla         2021       53823.00      552.00      52100.00   \n",
      "\n",
      "   Total Liabilities  Cash Flow from Operating Activities  Revenue Growth (%)  \\\n",
      "2             258.55                                80.67                 NaN   \n",
      "1             258.55                               104.04           33.258050   \n",
      "0             287.91                               122.15            7.793450   \n",
      "8          158077.00                             60000.00                 NaN   \n",
      "7          171100.00                             68000.00           17.531727   \n",
      "6          191791.00                             76000.00           17.956071   \n",
      "5           20000.00                              3000.00                 NaN   \n",
      "4           24000.00                              4000.00           28.309871   \n",
      "3           28000.00                              6000.00           70.671613   \n",
      "\n",
      "   Net Income Growth (%)  Assets Growth (%)  Liabilities Growth (%)  \n",
      "2                    NaN                NaN                     NaN  \n",
      "1              51.367358           0.003088                0.000000  \n",
      "0               8.952819           8.910433               11.355637  \n",
      "8                    NaN                NaN                     NaN  \n",
      "7              38.368601          10.775577                8.238390  \n",
      "6              17.887745           9.305858               12.092928  \n",
      "5                    NaN                NaN                     NaN  \n",
      "4            -180.046404          24.533333               20.000000  \n",
      "3             -20.000000          11.563169               16.666667  \n",
      "\n",
      "Average Growth Rates by Company:\n",
      "           Revenue Growth (%)  Net Income Growth (%)  Assets Growth (%)  \\\n",
      "Company                                                                   \n",
      "Apple               20.525750              30.160088           4.456760   \n",
      "Microsoft           17.743899              28.128173          10.040718   \n",
      "Tesla               49.490742            -100.023202          18.048251   \n",
      "\n",
      "           Liabilities Growth (%)  \n",
      "Company                            \n",
      "Apple                    5.677819  \n",
      "Microsoft               10.165659  \n",
      "Tesla                   18.333333  \n",
      "\n",
      "CSV file 'financial_data_with_growth.csv' created successfully!\n"
     ]
    }
   ],
   "source": [
    "df['Fiscal Year'] = pd.to_numeric(df['Fiscal Year'])\n",
    "df.sort_values(by=['Company', 'Fiscal Year'], inplace=True)\n",
    "\n",
    "# Calculate year-over-year percentage changes for each financial metric\n",
    "df['Revenue Growth (%)'] = df.groupby('Company')['Total Revenue'].pct_change() * 100\n",
    "df['Net Income Growth (%)'] = df.groupby('Company')['Net Income'].pct_change() * 100\n",
    "df['Assets Growth (%)'] = df.groupby('Company')['Total Assets'].pct_change() * 100\n",
    "df['Liabilities Growth (%)'] = df.groupby('Company')['Total Liabilities'].pct_change() * 100\n",
    "\n",
    "# Display the updated DataFrame with growth metrics\n",
    "print(\"Detailed Financial Data with Year-over-Year Growth Metrics:\")\n",
    "print(df)\n",
    "\n",
    "# Aggregate: Calculate average growth metrics for each company\n",
    "growth_summary = df.groupby('Company')[[\n",
    "    'Revenue Growth (%)', \n",
    "    'Net Income Growth (%)', \n",
    "    'Assets Growth (%)', \n",
    "    'Liabilities Growth (%)', \n",
    "]].mean()\n",
    "print(\"\\nAverage Growth Rates by Company:\")\n",
    "print(growth_summary)\n",
    "\n",
    "# Save the updated DataFrame to a new CSV file for further use\n",
    "output_csv = 'financial_data_with_growth.csv'\n",
    "df.to_csv(output_csv, index=False)\n",
    "print(f\"\\nCSV file '{output_csv}' created successfully!\")"
   ]
  },
  {
   "cell_type": "markdown",
   "id": "c316746e-53b6-48a4-93cb-e0fa8dc768b5",
   "metadata": {},
   "source": [
    "# Financial Data Trend Analysis\n",
    "\n",
    "In this section, we analyze the financial data for Apple, Tesla, and Microsoft by calculating year-over-year changes for key financial metrics using pandas.\n",
    "\n",
    "## Methodology\n",
    "\n",
    "1. **Data Loading and Preparation:**  \n",
    "   We load the combined CSV file containing the financial data for all three companies. The 'Fiscal Year' column is converted to a numeric type and the DataFrame is sorted by 'Company' and 'Fiscal Year' to ensure the data is in proper order.\n",
    "\n",
    "2. **Calculating Growth Metrics:**  \n",
    "   We use the pandas `groupby()` function along with `pct_change()` to compute the percentage change for:\n",
    "   - **Total Revenue**\n",
    "   - **Net Income**\n",
    "   - **Total Assets**\n",
    "   - **Total Liabilities**\n",
    "   - **Cash Flow from Operating Activities**\n",
    "\n",
    "   The resulting values are multiplied by 100 to convert them into percentage terms, and new columns are added to the DataFrame for each growth metric.\n",
    "\n",
    "3. **Summarizing Findings:**  \n",
    "   To gain further insight, we compute the average growth rates for each company by grouping the data by 'Company' and applying the mean function to the growth columns.\n",
    "\n",
    "## Observations\n",
    "\n",
    "- **Apple:** The growth trends in revenue and net income reveal the pace at which the company has been expanding over the analyzed years.\n",
    "- **Tesla:** Year-over-year changes, especially in net income, may show volatility or turning points in performance.\n",
    "- **Microsoft:** The consistent trends in the financial metrics indicate steady performance, with average growth values providing an overall snapshot of its progress."
   ]
  }
 ],
 "metadata": {
  "kernelspec": {
   "display_name": "Python 3 (ipykernel)",
   "language": "python",
   "name": "python3"
  },
  "language_info": {
   "codemirror_mode": {
    "name": "ipython",
    "version": 3
   },
   "file_extension": ".py",
   "mimetype": "text/x-python",
   "name": "python",
   "nbconvert_exporter": "python",
   "pygments_lexer": "ipython3",
   "version": "3.11.9"
  }
 },
 "nbformat": 4,
 "nbformat_minor": 5
}
